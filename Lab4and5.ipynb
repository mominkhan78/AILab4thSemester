{
  "nbformat": 4,
  "nbformat_minor": 0,
  "metadata": {
    "colab": {
      "provenance": [],
      "authorship_tag": "ABX9TyOBP20Ha7Bdc8iC5C5+AVL+",
      "include_colab_link": true
    },
    "kernelspec": {
      "name": "python3",
      "display_name": "Python 3"
    },
    "language_info": {
      "name": "python"
    }
  },
  "cells": [
    {
      "cell_type": "markdown",
      "metadata": {
        "id": "view-in-github",
        "colab_type": "text"
      },
      "source": [
        "<a href=\"https://colab.research.google.com/github/mominkhan78/AILab4thSemester/blob/main/Lab4and5.ipynb\" target=\"_parent\"><img src=\"https://colab.research.google.com/assets/colab-badge.svg\" alt=\"Open In Colab\"/></a>"
      ]
    },
    {
      "cell_type": "code",
      "execution_count": null,
      "metadata": {
        "id": "n86tFbkMZs2p"
      },
      "outputs": [],
      "source": []
    },
    {
      "cell_type": "markdown",
      "source": [
        "# **Tasks:**\n",
        "\n",
        "**Here are some tasks you can design using Python operations and concepts related to lists:**\n",
        "\n",
        "Access List Items:\n",
        "\n",
        "Create a list of fruits.\n",
        "\n",
        "Print the first and last items of the list.\n",
        "\n",
        "Change List Items:\n",
        "\n",
        "Create a list of colors.\n",
        "\n",
        "Change the second item in the list to \"blue\".\n",
        "\n",
        "Add List Items:\n",
        "\n",
        "Create a list of numbers.\n",
        "\n",
        "Add the number 10 at the end of the list.\n",
        "\n",
        "Remove List Items:\n",
        "\n",
        "Create a list of animals.\n",
        "\n",
        "Remove the third item from the list.\n",
        "\n",
        "Loop Lists:\n",
        "\n",
        "Create a list of cities.\n",
        "\n",
        "Loop through the list and print each city.\n",
        "\n",
        "List Comprehension:\n",
        "\n",
        "Create a list of numbers from 1 to 10.\n",
        "\n",
        "Use list comprehension to create a new list containing the square of each number.\n"
      ],
      "metadata": {
        "id": "Ve3caiHOZw4J"
      }
    },
    {
      "cell_type": "markdown",
      "source": [
        "**Access List Items:**\n",
        "\n",
        "  Create a list of fruits.\n",
        "\n",
        "  Print the first and last items of the list.\n"
      ],
      "metadata": {
        "id": "uJgmL101aUDs"
      }
    },
    {
      "cell_type": "code",
      "source": [
        "fruits = [\"Apple\", \"Banana\",\"Orange\", \"Pine Apple\"]\n",
        "print(\"First element:\",fruits[0])\n",
        "print(\"Last Element:\",fruits[-1])"
      ],
      "metadata": {
        "colab": {
          "base_uri": "https://localhost:8080/"
        },
        "id": "1Vv-ric8aPQv",
        "outputId": "0e5cd2c1-d4a0-4e40-e7d7-369e89aeda52"
      },
      "execution_count": 3,
      "outputs": [
        {
          "output_type": "stream",
          "name": "stdout",
          "text": [
            "First element: Apple\n",
            "Last Element: Pine Apple\n"
          ]
        }
      ]
    },
    {
      "cell_type": "markdown",
      "source": [
        "**Change List Items:**\n",
        "\n",
        "Create a list of colors.\n",
        "\n",
        "Change the second item in the list to \"blue\".\n"
      ],
      "metadata": {
        "id": "b86mvnz0a61G"
      }
    },
    {
      "cell_type": "code",
      "source": [
        "colors = [\"Red\",\"Green\",\"Orange\"]\n",
        "print(\"Before Changing Color:\",colors)\n",
        "colors[1] = \"Blue\"\n",
        "print(\"After Changing Color:\", colors)"
      ],
      "metadata": {
        "colab": {
          "base_uri": "https://localhost:8080/"
        },
        "id": "mOl1qabxa__q",
        "outputId": "e25c54c3-15b4-4e49-cce8-132c763299ff"
      },
      "execution_count": 4,
      "outputs": [
        {
          "output_type": "stream",
          "name": "stdout",
          "text": [
            "Before Changing Color: ['Red', 'Green', 'Orange']\n",
            "After Changing Color: ['Red', 'Blue', 'Orange']\n"
          ]
        }
      ]
    },
    {
      "cell_type": "markdown",
      "source": [
        "**Add List Items:**\n",
        "\n",
        "Create a list of numbers.\n",
        "\n",
        "Add the number 10 at the end of the list.\n"
      ],
      "metadata": {
        "id": "kjKm6ZR_bdgR"
      }
    },
    {
      "cell_type": "code",
      "source": [
        "numbers = [1,2,3,4,5,6,7,8,9]\n",
        "numbers.append(10)\n",
        "print(numbers)"
      ],
      "metadata": {
        "colab": {
          "base_uri": "https://localhost:8080/"
        },
        "id": "n0iF69vJblNx",
        "outputId": "f10e42b7-7d9c-424f-afc0-bec62e32b929"
      },
      "execution_count": 7,
      "outputs": [
        {
          "output_type": "stream",
          "name": "stdout",
          "text": [
            "[1, 2, 3, 4, 5, 6, 7, 8, 9, 10]\n"
          ]
        }
      ]
    },
    {
      "cell_type": "markdown",
      "source": [
        "**Remove List Items:**\n",
        "\n",
        "Create a list of animals.\n",
        "\n",
        "Remove the third item from the list.\n"
      ],
      "metadata": {
        "id": "ajwEXeLlcEv0"
      }
    },
    {
      "cell_type": "code",
      "source": [
        "animals = [\"Dog\",\"Cat\",\"Hourse\"]\n",
        "animals.remove(\"Dog\")\n",
        "print(animals)"
      ],
      "metadata": {
        "colab": {
          "base_uri": "https://localhost:8080/"
        },
        "id": "gnwY2EUKcTZm",
        "outputId": "dda87b6d-4e86-47d7-81fd-8284a31890e8"
      },
      "execution_count": 8,
      "outputs": [
        {
          "output_type": "stream",
          "name": "stdout",
          "text": [
            "['Cat', 'Hourse']\n"
          ]
        }
      ]
    },
    {
      "cell_type": "markdown",
      "source": [
        "**Loop Lists:**\n",
        "\n",
        "Create a list of cities.\n",
        "\n",
        "Loop through the list and print each city.\n"
      ],
      "metadata": {
        "id": "0SH09QOqcpj4"
      }
    },
    {
      "cell_type": "code",
      "source": [
        "cities = [\"CityA\",\"CityB\",\"CityC\",\"CityD\"]\n",
        "for city in cities:\n",
        "  print(city)"
      ],
      "metadata": {
        "colab": {
          "base_uri": "https://localhost:8080/"
        },
        "id": "9lXEtOR7ctVh",
        "outputId": "e3f8453f-2a50-457c-bec2-ec19212dbf58"
      },
      "execution_count": 10,
      "outputs": [
        {
          "output_type": "stream",
          "name": "stdout",
          "text": [
            "CityA\n",
            "CityB\n",
            "CityC\n",
            "CityD\n"
          ]
        }
      ]
    },
    {
      "cell_type": "markdown",
      "source": [
        "**List Comprehension:**\n",
        "\n",
        "Create a list of numbers from 1 to 10.\n",
        "\n",
        "Use list comprehension to create a new list containing the square of each number.\n"
      ],
      "metadata": {
        "id": "l59QTf0rdQxL"
      }
    },
    {
      "cell_type": "code",
      "source": [
        "numbers = [1,2,3,4,5,6,7,8,9,10]\n",
        "numbersSqr = []\n",
        "\n",
        "for number in numbers:\n",
        "  num = pow(number, 2)\n",
        "  numbersSqr.append(num)\n",
        "\n",
        "for number in numbersSqr:\n",
        "  print(number)\n",
        "\n"
      ],
      "metadata": {
        "colab": {
          "base_uri": "https://localhost:8080/"
        },
        "id": "C_OQl-k8dTHj",
        "outputId": "7f96b0a5-746b-45a3-915b-a108e5ed8969"
      },
      "execution_count": 12,
      "outputs": [
        {
          "output_type": "stream",
          "name": "stdout",
          "text": [
            "1\n",
            "4\n",
            "9\n",
            "16\n",
            "25\n",
            "36\n",
            "49\n",
            "64\n",
            "81\n",
            "100\n"
          ]
        }
      ]
    },
    {
      "cell_type": "markdown",
      "source": [
        "**Sort Lists:**\n",
        "\n",
        "Create a list of names.\n",
        "\n",
        "Sort the list alphabetically.\n"
      ],
      "metadata": {
        "id": "jiFNf_0neZSH"
      }
    },
    {
      "cell_type": "code",
      "source": [
        "randNum = [3,2,6,4,7]\n",
        "randNum.sort()\n",
        "print(randNum)\n"
      ],
      "metadata": {
        "colab": {
          "base_uri": "https://localhost:8080/"
        },
        "id": "0rFVTFpQeeSo",
        "outputId": "fe675aee-4a16-4d2f-b927-6b6ea7158934"
      },
      "execution_count": 14,
      "outputs": [
        {
          "output_type": "stream",
          "name": "stdout",
          "text": [
            "[2, 3, 4, 6, 7]\n"
          ]
        }
      ]
    },
    {
      "cell_type": "markdown",
      "source": [
        "**Copy Lists:**\n",
        "\n",
        "Create a list of fruits.\n",
        "\n",
        "Copy the list into a new list.\n"
      ],
      "metadata": {
        "id": "HHt3S7jQgQMX"
      }
    },
    {
      "cell_type": "code",
      "source": [
        "citiesB = cities.copy()\n",
        "print(citiesB)"
      ],
      "metadata": {
        "colab": {
          "base_uri": "https://localhost:8080/"
        },
        "id": "QxP4tu9XgieN",
        "outputId": "a4383c0a-181f-4532-c27e-bf8bdc1a19b2"
      },
      "execution_count": 15,
      "outputs": [
        {
          "output_type": "stream",
          "name": "stdout",
          "text": [
            "['CityA', 'CityB', 'CityC', 'CityD']\n"
          ]
        }
      ]
    },
    {
      "cell_type": "markdown",
      "source": [
        "**Join Lists:**\n",
        "\n",
        "Create two lists of numbers.\n",
        "\n",
        "Join the two lists into a single list.\n"
      ],
      "metadata": {
        "id": "nuEI4WgPgyRT"
      }
    },
    {
      "cell_type": "code",
      "source": [
        "citiesC = cities + citiesB\n",
        "print(citiesC)"
      ],
      "metadata": {
        "colab": {
          "base_uri": "https://localhost:8080/"
        },
        "id": "BAvmOOoig2LG",
        "outputId": "c15998ad-0fa2-4684-d558-9a09a3e1f540"
      },
      "execution_count": 17,
      "outputs": [
        {
          "output_type": "stream",
          "name": "stdout",
          "text": [
            "['CityA', 'CityB', 'CityC', 'CityD', 'CityA', 'CityB', 'CityC', 'CityD']\n"
          ]
        }
      ]
    },
    {
      "cell_type": "markdown",
      "source": [
        "**List Methods:**\n",
        "\n",
        "Create a list of fruits.\n",
        "\n",
        "Use the append() method to add a new fruit to the list.\n",
        "\n",
        "Use the pop() method to remove the last fruit from the list.\n"
      ],
      "metadata": {
        "id": "sAw5Le1thJn-"
      }
    },
    {
      "cell_type": "code",
      "source": [
        "print(citiesC)\n",
        "citiesC.append(\"CityE\")\n",
        "print(citiesC)\n",
        "citiesC.pop(2)"
      ],
      "metadata": {
        "colab": {
          "base_uri": "https://localhost:8080/",
          "height": 70
        },
        "id": "qpf-v184hNCF",
        "outputId": "0ffc78bf-e07f-4c53-f43b-4fe1b9690dbe"
      },
      "execution_count": 21,
      "outputs": [
        {
          "output_type": "stream",
          "name": "stdout",
          "text": [
            "['CityA', 'CityB', 'CityC', 'CityD', 'CityA', 'CityB', 'CityC', 'CityD', 'CityE']\n",
            "['CityA', 'CityB', 'CityC', 'CityD', 'CityA', 'CityB', 'CityC', 'CityD', 'CityE', 'CityE']\n"
          ]
        },
        {
          "output_type": "execute_result",
          "data": {
            "text/plain": [
              "'CityC'"
            ],
            "application/vnd.google.colaboratory.intrinsic+json": {
              "type": "string"
            }
          },
          "metadata": {},
          "execution_count": 21
        }
      ]
    },
    {
      "cell_type": "markdown",
      "source": [
        "**Combining Lists and List Comprehension:**\n",
        "\n",
        "Create two lists, one containing numbers from 1 to 5 and another containing numbers from 6 to 10.\n",
        "\n",
        "Use list comprehension to create a new list that contains the sum of corresponding elements from the two lists.\n"
      ],
      "metadata": {
        "id": "tuJ4-cAMiABT"
      }
    },
    {
      "cell_type": "code",
      "source": [
        "list1 = [1,2,3,4,5]\n",
        "list2 = [6,7,8,9,10]\n",
        "list3 = []\n",
        "\n",
        "for i in range(5):\n",
        "  list3.append(list1[i]+list2[i])\n",
        "\n",
        "print(list3)"
      ],
      "metadata": {
        "colab": {
          "base_uri": "https://localhost:8080/"
        },
        "id": "q6z2dDyTiM6b",
        "outputId": "5b2caa56-f436-4721-e4d5-22c0c4eab99d"
      },
      "execution_count": 22,
      "outputs": [
        {
          "output_type": "stream",
          "name": "stdout",
          "text": [
            "[7, 9, 11, 13, 15]\n"
          ]
        }
      ]
    },
    {
      "cell_type": "markdown",
      "source": [
        "**Filtering and Sorting:**\n",
        "\n",
        "Create a list of numbers.\n",
        "\n",
        "Use list comprehension to create a new list containing only the even numbers from the original list.\n",
        "\n",
        "Sort the new list in descending order.\n"
      ],
      "metadata": {
        "id": "PDw__rl7i4Zk"
      }
    },
    {
      "cell_type": "code",
      "source": [
        "listOfNumbers = [1,2,3,4,5]\n",
        "evenNumbers = []\n",
        "\n",
        "for num in listOfNumbers:\n",
        "  if num%2==0:\n",
        "    evenNumbers.append(num)\n",
        "\n",
        "print(evenNumbers)"
      ],
      "metadata": {
        "colab": {
          "base_uri": "https://localhost:8080/"
        },
        "id": "HWTGEdOui8p7",
        "outputId": "940ab51d-0531-48e8-b341-58d91366497b"
      },
      "execution_count": 23,
      "outputs": [
        {
          "output_type": "stream",
          "name": "stdout",
          "text": [
            "[2, 4]\n"
          ]
        }
      ]
    },
    {
      "cell_type": "markdown",
      "source": [
        "**List Slicing and Reversing:**\n",
        "\n",
        "Create a list of numbers from 1 to 10.\n",
        "\n",
        "Use list slicing to create a new list containing only the even numbers from the original list, in reverse order.\n"
      ],
      "metadata": {
        "id": "kGrqyyqcjtC-"
      }
    },
    {
      "cell_type": "code",
      "source": [
        "numbers = [1,2,3,4,5,6,7,8,9,10]\n",
        "evenNumbers = []\n",
        "evenNumbersInReveseForm = []\n",
        "\n",
        "for i in numbers:\n",
        "  if i%2==0:\n",
        "    evenNumbers.append(i)\n",
        "\n",
        "print(evenNumbers)\n",
        "\n",
        "evenNumbers.reverse()\n",
        "\n",
        "print(evenNumbers)\n",
        "\n",
        "\n"
      ],
      "metadata": {
        "colab": {
          "base_uri": "https://localhost:8080/"
        },
        "id": "H6eJp_ZhjyNo",
        "outputId": "4ab871eb-fdff-418e-f5bf-89276d31eb16"
      },
      "execution_count": 26,
      "outputs": [
        {
          "output_type": "stream",
          "name": "stdout",
          "text": [
            "[2, 4, 6, 8, 10]\n",
            "[10, 8, 6, 4, 2]\n"
          ]
        }
      ]
    },
    {
      "cell_type": "markdown",
      "source": [
        "**Combining Lists and List Methods:**\n",
        "\n",
        "Create two lists, one containing even numbers and another containing odd numbers.\n",
        "\n",
        "Use list methods to combine the two lists into a single list, alternating between even and odd numbers."
      ],
      "metadata": {
        "id": "sagf0XpulJtp"
      }
    },
    {
      "cell_type": "code",
      "source": [
        "EvenNumbers = [2,4,6,8,10]\n",
        "\n",
        "OddNumbers = [1,3,5,7,9]\n",
        "\n",
        "WholeList = EvenNumbers + OddNumbers\n",
        "\n",
        "print(WholeList)\n",
        "\n",
        "WholeList.sort()\n",
        "\n",
        "print(WholeList)"
      ],
      "metadata": {
        "colab": {
          "base_uri": "https://localhost:8080/"
        },
        "id": "H8WGo_75lL-o",
        "outputId": "47c692cb-18c3-4497-c7ba-0d0c2241dad6"
      },
      "execution_count": 27,
      "outputs": [
        {
          "output_type": "stream",
          "name": "stdout",
          "text": [
            "[2, 4, 6, 8, 10, 1, 3, 5, 7, 9]\n",
            "[1, 2, 3, 4, 5, 6, 7, 8, 9, 10]\n"
          ]
        }
      ]
    }
  ]
}