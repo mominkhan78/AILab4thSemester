{
  "nbformat": 4,
  "nbformat_minor": 0,
  "metadata": {
    "colab": {
      "provenance": [],
      "authorship_tag": "ABX9TyM2Br8jlfxmpCu2DfbBwFm9",
      "include_colab_link": true
    },
    "kernelspec": {
      "name": "python3",
      "display_name": "Python 3"
    },
    "language_info": {
      "name": "python"
    }
  },
  "cells": [
    {
      "cell_type": "markdown",
      "metadata": {
        "id": "view-in-github",
        "colab_type": "text"
      },
      "source": [
        "<a href=\"https://colab.research.google.com/github/mominkhan78/AILab4thSemester/blob/main/Lab1.ipynb\" target=\"_parent\"><img src=\"https://colab.research.google.com/assets/colab-badge.svg\" alt=\"Open In Colab\"/></a>"
      ]
    },
    {
      "cell_type": "markdown",
      "source": [
        "\n",
        "# **1. Differentiation between assignment operator and equality operator:**\n",
        "\n",
        "  **Assignment Operator (=):**\n",
        "\n",
        "  Used to assign a value to a variable.\n",
        "  Example: x = 10 assigns the value 10 to the variable x.\n",
        "\n",
        "  **Equality Operator (==):**\n",
        "\n",
        "  Used to compare two values for equality.\n",
        "  Example: if x == 10: checks if the value of x is equal to 10."
      ],
      "metadata": {
        "id": "_5S8r6EXeBId"
      }
    },
    {
      "cell_type": "markdown",
      "source": [
        "# **2. Exploration of variables and code examples for each data type:**\n",
        "\n",
        "**Integer variable:**"
      ],
      "metadata": {
        "id": "AhaWFjHneWyY"
      }
    },
    {
      "cell_type": "code",
      "source": [
        "x = 5\n",
        "y = -10"
      ],
      "metadata": {
        "id": "-eKiQY23eZkn"
      },
      "execution_count": 4,
      "outputs": []
    },
    {
      "cell_type": "markdown",
      "source": [
        "**Floating-point variable:**"
      ],
      "metadata": {
        "id": "PwcQQmbuel3l"
      }
    },
    {
      "cell_type": "code",
      "source": [
        "a = 3.14\n",
        "b = -2.5"
      ],
      "metadata": {
        "id": "ofzZEY60er59"
      },
      "execution_count": 5,
      "outputs": []
    },
    {
      "cell_type": "markdown",
      "source": [
        "**String variable:**"
      ],
      "metadata": {
        "id": "X5O7K_qKewUN"
      }
    },
    {
      "cell_type": "code",
      "source": [
        "name = \"John\"\n",
        "message = 'Hello, world!'"
      ],
      "metadata": {
        "id": "fb0U29tJe081"
      },
      "execution_count": null,
      "outputs": []
    },
    {
      "cell_type": "markdown",
      "source": [
        "**Boolean variable:**"
      ],
      "metadata": {
        "id": "xrfFPM86e3lF"
      }
    },
    {
      "cell_type": "code",
      "source": [
        "is_valid = True\n",
        "is_finished = False"
      ],
      "metadata": {
        "id": "k4YHsCH4e7I8"
      },
      "execution_count": 6,
      "outputs": []
    },
    {
      "cell_type": "markdown",
      "source": [
        "# **3. Rules for variable names and examples:**\n",
        "\n",
        "Variable names can include letters, numbers, and underscores (_), but must start with a letter or underscore. They cannot contain spaces or special characters except underscores.\n",
        "\n",
        "**Examples:**"
      ],
      "metadata": {
        "id": "tPyIyxKwe-k1"
      }
    },
    {
      "cell_type": "code",
      "source": [
        "my_variable = 10\n",
        "_myVariable = 20\n",
        "var_123 = \"hello\""
      ],
      "metadata": {
        "id": "jwRCcWaRfIZE"
      },
      "execution_count": null,
      "outputs": []
    },
    {
      "cell_type": "markdown",
      "source": [
        "# **4. Declaration and initialization of multiple variables:**\n",
        "\n",
        "**Single variable with multiple values:**"
      ],
      "metadata": {
        "id": "ecInlfK4fK_t"
      }
    },
    {
      "cell_type": "code",
      "source": [
        "a, b, c = 1, 2, 3"
      ],
      "metadata": {
        "id": "5iS9VUs7fSKH"
      },
      "execution_count": null,
      "outputs": []
    },
    {
      "cell_type": "markdown",
      "source": [
        "**Multiple variables with single values:**"
      ],
      "metadata": {
        "id": "TDAPrYYAfVc3"
      }
    },
    {
      "cell_type": "code",
      "source": [
        "x = y = z = 10"
      ],
      "metadata": {
        "id": "sdHXt8XQfYiP"
      },
      "execution_count": null,
      "outputs": []
    },
    {
      "cell_type": "markdown",
      "source": [
        "# **5. Arithmetic operations on integers and floating-point numbers:**\n",
        "\n",
        "**Integer operations:**"
      ],
      "metadata": {
        "id": "DgW21mt_faZw"
      }
    },
    {
      "cell_type": "code",
      "source": [
        "a = 10\n",
        "b = 5\n",
        "addition = a + b\n",
        "subtraction = a - b\n",
        "multiplication = a * b\n",
        "division = a / b"
      ],
      "metadata": {
        "id": "PRuvjEfwff6V"
      },
      "execution_count": 7,
      "outputs": []
    },
    {
      "cell_type": "markdown",
      "source": [
        "**Floating-point operations:**"
      ],
      "metadata": {
        "id": "fR_F-_4hfkYc"
      }
    },
    {
      "cell_type": "code",
      "source": [
        "x = 3.5\n",
        "y = 2.0\n",
        "addition = x + y\n",
        "subtraction = x - y\n",
        "multiplication = x * y\n",
        "division = x / y"
      ],
      "metadata": {
        "id": "1WdqMaQRfmKN"
      },
      "execution_count": 8,
      "outputs": []
    },
    {
      "cell_type": "markdown",
      "source": [
        "# **6. String literals and examples:**"
      ],
      "metadata": {
        "id": "AP-DQUV_fri1"
      }
    },
    {
      "cell_type": "code",
      "source": [
        "single_quote = 'Hello, world!'\n",
        "double_quote = \"It's a beautiful day.\"\n",
        "mixed_quote = \"She said, \\\"I love Python.\\\"\""
      ],
      "metadata": {
        "id": "9gf6OHJ3fwKF"
      },
      "execution_count": 9,
      "outputs": []
    },
    {
      "cell_type": "markdown",
      "source": [
        "# **7. Examples using the print() function:**"
      ],
      "metadata": {
        "id": "w0tHSjpUfxV1"
      }
    },
    {
      "cell_type": "code",
      "source": [
        "x = 10\n",
        "y = 20\n",
        "print(\"The value of x is:\", x)\n",
        "print(\"The value of x and y are:\", x, y)\n",
        "name = \"Alice\"\n",
        "age = 25\n",
        "print(f\"Name: {name}, Age: {age}\")\n",
        "print(f\"Next year, {name} will be {age + 1} years old.\")"
      ],
      "metadata": {
        "colab": {
          "base_uri": "https://localhost:8080/"
        },
        "id": "xi5AMUrvf0LN",
        "outputId": "71d680b9-df9e-4ef8-8c23-4ab2b795a40f"
      },
      "execution_count": 10,
      "outputs": [
        {
          "output_type": "stream",
          "name": "stdout",
          "text": [
            "The value of x is: 10\n",
            "The value of x and y are: 10 20\n",
            "Name: Alice, Age: 25\n",
            "Next year, Alice will be 26 years old.\n"
          ]
        }
      ]
    }
  ]
}