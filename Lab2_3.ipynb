{
  "nbformat": 4,
  "nbformat_minor": 0,
  "metadata": {
    "colab": {
      "provenance": [],
      "authorship_tag": "ABX9TyMCUH9IjQmBR6+dw9fMxsTD",
      "include_colab_link": true
    },
    "kernelspec": {
      "name": "python3",
      "display_name": "Python 3"
    },
    "language_info": {
      "name": "python"
    }
  },
  "cells": [
    {
      "cell_type": "markdown",
      "metadata": {
        "id": "view-in-github",
        "colab_type": "text"
      },
      "source": [
        "<a href=\"https://colab.research.google.com/github/mominkhan78/AILab4thSemester/blob/main/Lab2_3.ipynb\" target=\"_parent\"><img src=\"https://colab.research.google.com/assets/colab-badge.svg\" alt=\"Open In Colab\"/></a>"
      ]
    },
    {
      "cell_type": "markdown",
      "source": [
        "# **Lab 2 and Lab 3**"
      ],
      "metadata": {
        "id": "-XM22l3Gik4K"
      }
    },
    {
      "cell_type": "markdown",
      "source": [
        "# **Task 1:**\n",
        "**Print at least 5 types of data type**\n",
        "\n",
        "**Int:**"
      ],
      "metadata": {
        "id": "6FjHkHJFhxIe"
      }
    },
    {
      "cell_type": "code",
      "execution_count": 12,
      "metadata": {
        "id": "PQMDEdGhbLr4"
      },
      "outputs": [],
      "source": [
        "a = 12\n",
        "b = 13\n",
        "c = 69\n",
        "d = 74\n",
        "e = 99"
      ]
    },
    {
      "cell_type": "markdown",
      "source": [
        "**Float:**"
      ],
      "metadata": {
        "id": "FOCFrSneiNvf"
      }
    },
    {
      "cell_type": "code",
      "source": [
        "af = 12.2\n",
        "bf = 13.3\n",
        "cf = 69.96\n",
        "df = 74.47\n",
        "ef = 99.99"
      ],
      "metadata": {
        "id": "qKKACWcaiQeH"
      },
      "execution_count": null,
      "outputs": []
    },
    {
      "cell_type": "markdown",
      "source": [
        "**Complex**"
      ],
      "metadata": {
        "id": "XQ-M9L25iYXk"
      }
    },
    {
      "cell_type": "code",
      "source": [
        "ae = 12j\n",
        "be = 13j\n",
        "ce = 69j\n",
        "de = 74j\n",
        "ee = 99j"
      ],
      "metadata": {
        "id": "oagNcbuNihPk"
      },
      "execution_count": null,
      "outputs": []
    },
    {
      "cell_type": "markdown",
      "source": [
        "# **Task 2**\n",
        "**⦁\tWrite example of type conversion for each ( minimum 3)**"
      ],
      "metadata": {
        "id": "j5vUgqbjjGer"
      }
    },
    {
      "cell_type": "code",
      "source": [
        "# # int\n",
        "# a = 12\n",
        "# b = 13\n",
        "# c = 69\n",
        "# d = 74\n",
        "# e = 99\n",
        "\n",
        "# # float\n",
        "# af = 12.2\n",
        "# bf = 13.3\n",
        "# cf = 69.96\n",
        "# df = 74.47\n",
        "# ef = 99.99\n",
        "\n",
        "# # Complex\n",
        "# ae = 2 + 12j\n",
        "# be = 3 + 13j\n",
        "# ce = 6 + 69j\n",
        "# de = 1 + 74j\n",
        "# ee = 8 + 99j\n",
        "\n",
        "\n",
        "\n",
        "# Type conversion from int to float\n",
        "aif = float(a)\n",
        "bif = float(b)\n",
        "cif = float(c)\n",
        "dif = float(d)\n",
        "eif = float(e)\n",
        "\n",
        "# Type conversion from float to int\n",
        "afi = int(af)\n",
        "bfi = int(bf)\n",
        "cfi = int(cf)\n",
        "dfi = int(df)\n",
        "efi = int(ef)\n",
        "\n",
        "# Type conversion from complex to int\n",
        "aci_imag = ae.imag\n",
        "aci_real = ae.real\n",
        "# bci = int(be)\n",
        "# cci = int(ce)\n",
        "# dci = int(de)\n",
        "# eci = int(ee)\n",
        "\n",
        "# print(aci_imag)\n",
        "# print(aci_real)\n",
        "\n",
        "print(a,type(a),af,type(af),ae, type(ae))\n"
      ],
      "metadata": {
        "id": "ksUCdrBVjOE3",
        "outputId": "afc7aea3-f28e-48ca-c7a8-1f0b323b23f8",
        "colab": {
          "base_uri": "https://localhost:8080/"
        }
      },
      "execution_count": 34,
      "outputs": [
        {
          "output_type": "stream",
          "name": "stdout",
          "text": [
            "12 <class 'int'> 12.2 <class 'float'> (2+12j) <class 'complex'>\n"
          ]
        }
      ]
    },
    {
      "cell_type": "markdown",
      "source": [
        "# **Task 3**\n",
        "**Assign multiple strings to single variable with your name , registration number, program , semester etc**\n"
      ],
      "metadata": {
        "id": "cM95tSEilxRS"
      }
    },
    {
      "cell_type": "code",
      "source": [
        "data1 = \"Momin\",\"Khan\",\"B22F1181AI056\",\"03107717890\",\"BSAI\",\"4th\"\n",
        "data2 = \"Hamza\",\"Rashid\",\"B22F0280AI075\",\"03108881738\",\"BSAI\",\"4th\"\n",
        "data3 = \"Qasim\",\"Khan\",\"B22F1181AI046\",\"03107871721\",\"BSAI\",\"4th\"\n",
        "print(data1)\n",
        "print(data2)\n",
        "print(data3)"
      ],
      "metadata": {
        "id": "UBZPFux4l5k9",
        "outputId": "3912beab-a059-419c-aa8b-eaa2ed38a9bc",
        "colab": {
          "base_uri": "https://localhost:8080/"
        }
      },
      "execution_count": 20,
      "outputs": [
        {
          "output_type": "stream",
          "name": "stdout",
          "text": [
            "('Momin', 'Khan', 'B22F1181AI056', '03107717890', 'BSAI', '4th')\n",
            "('Hamza', 'Rashid', 'B22F0280AI075', '03108881738', 'BSAI', '4th')\n",
            "('Qasim', 'Khan', 'B22F1181AI046', '03107871721', 'BSAI', '4th')\n"
          ]
        }
      ]
    },
    {
      "cell_type": "markdown",
      "source": [
        "# **Task 4**\n",
        "**Write Your country name and access the last 3 characters**"
      ],
      "metadata": {
        "id": "ZocjQj9imtPb"
      }
    },
    {
      "cell_type": "code",
      "source": [
        "CName = \"Pakistan\"\n",
        "print(CName[-3:-1])"
      ],
      "metadata": {
        "id": "17fsyCjpmzQc",
        "outputId": "65ba2499-8f4b-46bd-8b91-12a0a43be5b5",
        "colab": {
          "base_uri": "https://localhost:8080/"
        }
      },
      "execution_count": 26,
      "outputs": [
        {
          "output_type": "stream",
          "name": "stdout",
          "text": [
            "ta\n"
          ]
        }
      ]
    },
    {
      "cell_type": "markdown",
      "source": [
        "# **Task 5**\n",
        "**Write code and observe using len() function it count space or not.**"
      ],
      "metadata": {
        "id": "j92p0BZunjQI"
      }
    },
    {
      "cell_type": "code",
      "source": [
        "name = \" Pakistan  \"\n",
        "lenName = len(name)\n",
        "print(lenName)\n",
        "\n",
        "# Yes It do count"
      ],
      "metadata": {
        "id": "YnD5J6bnnnsC",
        "outputId": "ed01c62f-8e5e-46fc-f19d-7593c112aee4",
        "colab": {
          "base_uri": "https://localhost:8080/"
        }
      },
      "execution_count": 27,
      "outputs": [
        {
          "output_type": "stream",
          "name": "stdout",
          "text": [
            "11\n"
          ]
        }
      ]
    },
    {
      "cell_type": "markdown",
      "source": [
        "# **Task 6**\n",
        "**Write code to access the 2nd and 3rd character of your name using negative indexes.**"
      ],
      "metadata": {
        "id": "0wtOKkXbn9e3"
      }
    },
    {
      "cell_type": "code",
      "source": [
        "C1Name = \"Pakistan\"\n",
        "print(C1Name[-6:-3])"
      ],
      "metadata": {
        "id": "_n0YoBiDoE61",
        "outputId": "0234d11e-4f23-4eec-ee8a-ee7d1cbe1ef0",
        "colab": {
          "base_uri": "https://localhost:8080/"
        }
      },
      "execution_count": 30,
      "outputs": [
        {
          "output_type": "stream",
          "name": "stdout",
          "text": [
            "kis\n"
          ]
        }
      ]
    },
    {
      "cell_type": "markdown",
      "source": [
        "# **Task 7**\n",
        "**Write python code in which you pass index number to format() function and arguments must be 4 and same code without indexes.**"
      ],
      "metadata": {
        "id": "gmgUgVoYo6yo"
      }
    },
    {
      "cell_type": "code",
      "source": [
        "age = 21\n",
        "p_age = \"Momin age is {}\"\n",
        "print(p_age.format(age),p_age[3:9])\n",
        "\n",
        "age = 20\n",
        "p_age = \"Faizan age is {}\"\n",
        "print(p_age.format(age),p_age[3:9])\n",
        "age = 19\n",
        "p_age = \"Ahmed age is {}\"\n",
        "print(p_age.format(age),p_age[3:9])\n",
        "age = 42\n",
        "p_age = \"Ali age is {}\"\n",
        "\n",
        "print(p_age.format(age),p_age[3:9])"
      ],
      "metadata": {
        "id": "a8NVL1xypIjP",
        "outputId": "4dc4ec5b-2bf1-47d9-f0bd-e6e110d515ca",
        "colab": {
          "base_uri": "https://localhost:8080/"
        }
      },
      "execution_count": 42,
      "outputs": [
        {
          "output_type": "stream",
          "name": "stdout",
          "text": [
            "Momin age is 21 in age\n",
            "Faizan age is 20 zan ag\n",
            "Ahmed age is 19 ed age\n",
            "Ali age is 42  age i\n"
          ]
        }
      ]
    },
    {
      "cell_type": "markdown",
      "source": [
        "# **Task 8**\n",
        "**Take input from user and  than display it like “John age is: age”**"
      ],
      "metadata": {
        "id": "gihJIXCXqLEL"
      }
    },
    {
      "cell_type": "code",
      "source": [
        "for x in range(4):\n",
        "  age = input(\"Enter Your Age \")\n",
        "  Name = input(\"Enter your Name \")\n",
        "  p_age = \"{} age is {}\"\n",
        "\n",
        "  print(p_age.format(Name, age))\n",
        "\n"
      ],
      "metadata": {
        "id": "p3THsTWqqP5U",
        "outputId": "0cfa57fb-17c0-4523-e712-f64b4f608130",
        "colab": {
          "base_uri": "https://localhost:8080/"
        }
      },
      "execution_count": 39,
      "outputs": [
        {
          "output_type": "stream",
          "name": "stdout",
          "text": [
            "Enter Your Age 12\n",
            "Enter your Name momin\n",
            "momin age is 12\n",
            "Enter Your Age qasim\n",
            "Enter your Name 31\n",
            "31 age is qasim\n",
            "Enter Your Age Hamza\n",
            "Enter your Name 1\n",
            "1 age is Hamza\n",
            "Enter Your Age ali\n",
            "Enter your Name 99\n",
            "99 age is ali\n"
          ]
        }
      ]
    }
  ]
}