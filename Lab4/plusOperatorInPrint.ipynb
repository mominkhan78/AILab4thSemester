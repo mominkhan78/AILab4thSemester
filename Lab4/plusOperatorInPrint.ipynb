{
 "cells": [
  {
   "cell_type": "code",
   "execution_count": null,
   "metadata": {},
   "outputs": [],
   "source": [
    "# With same data type\n",
    "a = \"Momin \"\n",
    "b = \"Khan\"\n",
    "\n",
    "print(a+b)\n",
    "\n",
    "# with different data type\n",
    "a = \"Momin\"\n",
    "b = 12\n",
    "\n",
    "print(a+b) #error will come "
   ]
  }
 ],
 "metadata": {
  "language_info": {
   "name": "python"
  }
 },
 "nbformat": 4,
 "nbformat_minor": 2
}
